{
  "cells": [
    {
      "cell_type": "code",
      "execution_count": 7,
      "metadata": {
        "colab": {
          "base_uri": "https://localhost:8080/"
        },
        "id": "KoX3C52FLSNN",
        "outputId": "bcf2cae7-db50-40ab-d440-ee349ec8833b"
      },
      "outputs": [
        {
          "name": "stderr",
          "output_type": "stream",
          "text": [
            "[nltk_data] Downloading package punkt to /root/nltk_data...\n",
            "[nltk_data]   Unzipping tokenizers/punkt.zip.\n",
            "[nltk_data] Downloading package averaged_perceptron_tagger to\n",
            "[nltk_data]     /root/nltk_data...\n",
            "[nltk_data]   Unzipping taggers/averaged_perceptron_tagger.zip.\n",
            "[nltk_data] Downloading package wordnet to /root/nltk_data...\n"
          ]
        },
        {
          "name": "stdout",
          "output_type": "stream",
          "text": [
            "Mounted at /content/drive\n"
          ]
        }
      ],
      "source": [
        "import nltk\n",
        "nltk.download('punkt')\n",
        "nltk.download('averaged_perceptron_tagger')\n",
        "nltk.download('wordnet')\n",
        "from sklearn.feature_extraction.text import CountVectorizer\n",
        "from sklearn.feature_extraction import DictVectorizer\n",
        "from sklearn.naive_bayes import MultinomialNB\n",
        "from sklearn.pipeline import make_pipeline\n",
        "from google.colab import drive\n",
        "drive.mount('/content/drive')\n"
      ]
    },
    {
      "cell_type": "code",
      "execution_count": 8,
      "metadata": {
        "id": "Vq7xbHHE4mWH"
      },
      "outputs": [],
      "source": [
        "import xml.etree.ElementTree as ET\n",
        "import json"
      ]
    },
    {
      "cell_type": "code",
      "execution_count": 42,
      "metadata": {
        "id": "tIoNTIBuHI_7"
      },
      "outputs": [],
      "source": [
        "from sklearn.neighbors import KNeighborsClassifier\n",
        "from sklearn.feature_extraction import DictVectorizer\n",
        "\n",
        "from sklearn.feature_extraction import DictVectorizer\n",
        "from sklearn.linear_model import LogisticRegression\n"
      ]
    },
    {
      "cell_type": "code",
      "execution_count": 9,
      "metadata": {
        "id": "wk95VE6RjLUD"
      },
      "outputs": [],
      "source": [
        "# !pip install spacy\n",
        "# !python -m spacy download en_core_web_md\n"
      ]
    },
    {
      "cell_type": "markdown",
      "metadata": {
        "id": "NOa1EerDFTMO"
      },
      "source": []
    },
    {
      "cell_type": "code",
      "execution_count": 39,
      "metadata": {
        "id": "hXfXZDkO-RZr"
      },
      "outputs": [],
      "source": [
        "# Make sure the path of training and testing data is correct\n",
        "xml_file = 'drive/MyDrive/semcor.data.xml'\n",
        "gold_key = 'drive/MyDrive/semcor.gold.key.txt'\n",
        "test_xml_file = 'drive/MyDrive/ALL.data.xml'\n",
        "test_gold_key = 'drive/MyDrive/ALL.gold.key.txt'"
      ]
    },
    {
      "cell_type": "code",
      "execution_count": 11,
      "metadata": {
        "id": "mZstcQ-ztTi7"
      },
      "outputs": [],
      "source": [
        "dataset= {}\n",
        "ins = 0"
      ]
    },
    {
      "cell_type": "code",
      "execution_count": 12,
      "metadata": {
        "id": "7D6FdXGnui1E"
      },
      "outputs": [],
      "source": [
        "\n",
        "def process(file):\n",
        "    # root = ET.fromstring(corpus)\n",
        "    n = 0\n",
        "    global ins\n",
        "    tree = ET.parse(file)\n",
        "    root = tree.getroot()\n",
        "    # print(type(root))\n",
        "    for sentence in root.findall('.//sentence'):\n",
        "        # print(f\"Sentence ID: {sentence.attrib['id']}\")\n",
        "        sent = \"\"\n",
        "        pos_sent = \"\"\n",
        "        n+=1\n",
        "        for element in sentence:\n",
        "            sent = sent + \" \" + element.text\n",
        "            le = len(element.text.split())\n",
        "            s = ''.join([element.attrib.get('pos') + \" \" for i in range(le)])\n",
        "            pos_sent = pos_sent + s\n",
        "        for element in sentence:\n",
        "            if element.tag in ['instance']:\n",
        "                  ins += 1\n",
        "                  lemma = element.attrib.get('lemma')\n",
        "                  id = element.attrib.get('id')\n",
        "                  pos = element.attrib.get('pos')\n",
        "                  if lemma not in dataset:\n",
        "                    dataset[lemma] = []\n",
        "                  # if element.text not in sent.split()\n",
        "                  posit = sent.split().index(element.text.split()[0])\n",
        "                  # doc = nlp(sent)\n",
        "\n",
        "                  # sentence_vector = nlp(sent)\n",
        "                  bow = sent.split()[max(posit-3,0):min(posit+3,(len(sent.split())))]\n",
        "                  pos_before = 0\n",
        "                  if posit > 0:\n",
        "                    pos_before  = pos_sent.split()[posit-1]\n",
        "                  pos_after = 0\n",
        "                  if posit+1 <  len(pos_sent.split()):\n",
        "                    pos_after  = pos_sent.split()[posit+1]\n",
        "                  dataset[lemma].append([id,lemma, sent,pos,pos_sent,bow,element.text,pos_before,pos_after])\n",
        "\n",
        "        # print(sent)\n",
        "\n",
        "    print(len(dataset))\n",
        "    return n\n"
      ]
    },
    {
      "cell_type": "code",
      "execution_count": null,
      "metadata": {
        "colab": {
          "base_uri": "https://localhost:8080/",
          "height": 351
        },
        "id": "tN_4Xq_0B-uv",
        "outputId": "8b5cb903-a86f-4799-d3e2-e470082c8d63"
      },
      "outputs": [],
      "source": [
        "process(xml_file)\n",
        "# for i in range(1,10):\n",
        "#     print(process(f'drive/MyDrive/tempdd{i}.xml'))\n",
        "print(ins)"
      ]
    },
    {
      "cell_type": "code",
      "execution_count": null,
      "metadata": {
        "id": "WkKH4obaaavg"
      },
      "outputs": [],
      "source": [
        "import json\n",
        "with open('drive/MyDrive/semcordatasettf.json', 'w') as file:\n",
        "    json.dump(dataset, file, indent=2)"
      ]
    },
    {
      "cell_type": "code",
      "execution_count": 14,
      "metadata": {
        "id": "CgUDkc__aa6y"
      },
      "outputs": [],
      "source": [
        "with open('drive/MyDrive/semcordatasettf.json', 'r') as file:\n",
        "    dataset = json.load(file)\n",
        "\n",
        "# print(d, dataset[d])"
      ]
    },
    {
      "cell_type": "code",
      "execution_count": 15,
      "metadata": {
        "colab": {
          "base_uri": "https://localhost:8080/"
        },
        "id": "eUVSq8Wg103J",
        "outputId": "2ef8ba4a-0464-471d-f4c8-c7574e0eafc0"
      },
      "outputs": [
        {
          "name": "stdout",
          "output_type": "stream",
          "text": [
            "226036\n",
            "33316\n"
          ]
        }
      ],
      "source": [
        "lines = []\n",
        "with open(gold_key, 'r') as file:\n",
        "    lines = file.readlines()\n",
        "\n",
        "Y_values = {}\n",
        "processed_data = []\n",
        "for line in lines:\n",
        "    words = line.strip().split()\n",
        "    processed_data.append(words[1])\n",
        "    Y_values[words[0]] = words[1]\n",
        "#     print(item)\n",
        "\n",
        "print(len(processed_data))\n",
        "print(len(set(processed_data)))\n",
        "# print(Y_values)"
      ]
    },
    {
      "cell_type": "code",
      "execution_count": null,
      "metadata": {
        "id": "X9SVPnwrAwjO"
      },
      "outputs": [],
      "source": [
        "\n",
        "for lemma in dataset:\n",
        "  for j in dataset[lemma]:\n",
        "    y = Y_values[j[0]]\n",
        "    pos = y.index('%')\n",
        "    j.append(y[pos:pos+8])\n"
      ]
    },
    {
      "cell_type": "code",
      "execution_count": 16,
      "metadata": {
        "colab": {
          "base_uri": "https://localhost:8080/"
        },
        "id": "QFF3s28y1vxu",
        "outputId": "13e199e7-aa4f-488d-9135-085a973c8ad2"
      },
      "outputs": [
        {
          "name": "stdout",
          "output_type": "stream",
          "text": [
            "0\n",
            "0\n"
          ]
        }
      ],
      "source": [
        "file_path = test_gold_key\n",
        "\n",
        "with open(test_gold_key, 'r') as file:\n",
        "    lines = file.readlines()\n",
        "\n",
        "test_Y_values = {}\n",
        "test_processed_data = []\n",
        "for line in lines:\n",
        "    words = line.strip().split()\n",
        "    pos = line.index(\" \")\n",
        "    line = line[pos:]\n",
        "    # test_processed_data.append(line)\n",
        "    test_Y_values[words[0]] = line\n",
        "#     print(item)\n",
        "test_Y = test_processed_data\n",
        "\n",
        "print(len(test_processed_data))\n",
        "print(len(set(test_processed_data)))\n",
        "# print(Y_values)"
      ]
    },
    {
      "cell_type": "code",
      "execution_count": 17,
      "metadata": {
        "colab": {
          "base_uri": "https://localhost:8080/"
        },
        "id": "4KM5ajN4EgPv",
        "outputId": "3d92fac7-1e91-4970-98a8-2ba59358853c"
      },
      "outputs": [
        {
          "name": "stdout",
          "output_type": "stream",
          "text": [
            "2659\n"
          ]
        }
      ],
      "source": [
        "\n",
        "test_tree = ET.parse(test_xml_file)\n",
        "test_root = test_tree.getroot()\n",
        "# print(type(root))\n",
        "test_dataset = {}\n",
        "for sentence in test_root.findall('.//sentence'):\n",
        "    # print(f\"Sentence ID: {sentence.attrib['id']}\")\n",
        "    sent = \"\"\n",
        "    pos_sent = \"\"\n",
        "    for element in sentence:\n",
        "\n",
        "            sent = sent + \" \" + element.text\n",
        "            le = len(element.text.split())\n",
        "            s = ''.join([element.attrib.get('pos') + \" \" for i in range(le)])\n",
        "            pos_sent = pos_sent + s\n",
        "    posit = 0\n",
        "    for element in sentence:\n",
        "        if element.tag in ['instance']:\n",
        "              ins += 1\n",
        "              lemma = element.attrib.get('lemma')\n",
        "              id = element.attrib.get('id')\n",
        "              pos = element.attrib.get('pos')\n",
        "              if lemma not in test_dataset:\n",
        "                test_dataset[lemma] = []\n",
        "              posit = sent.split().index(element.text.split()[0])\n",
        "\n",
        "              # doc = nlp(sent)\n",
        "              # sentence_vector = doc.vector\n",
        "              bow = sent.split()[max(posit-3,0):min(posit+3,(len(sent.split())))]\n",
        "\n",
        "              pos_before = \"\"\n",
        "              if posit > 0:\n",
        "                if posit >= len(pos_sent.split()):\n",
        "                  print(\"\\n\",posit)\n",
        "                  print(len(pos_sent.split()))\n",
        "                  print(len(sent.split()))\n",
        "                  print(sent)\n",
        "                  print(pos_sent)\n",
        "                pos_before  = pos_sent.split()[posit-1]\n",
        "              pos_after = \"\"\n",
        "              if posit+1 <  len(pos_sent.split()):\n",
        "                pos_after  = pos_sent.split()[posit+1]\n",
        "              test_dataset[lemma].append([id,lemma, sent,pos,pos_sent,bow,element.text,pos_before,pos_after])\n",
        "    # print(sent)\n",
        "\n",
        "print(len(test_dataset))\n",
        "# print(features)\n"
      ]
    },
    {
      "cell_type": "code",
      "execution_count": 18,
      "metadata": {
        "id": "VobYYLonGDRd"
      },
      "outputs": [],
      "source": [
        "for lemma in test_dataset:\n",
        "  for j in test_dataset[lemma]:\n",
        "    y = test_Y_values[j[0]]\n",
        "    pos = y.index('%')\n",
        "    j.append(y[0:])\n",
        "if lemma not in dataset:\n",
        "  print(lemma)\n"
      ]
    },
    {
      "cell_type": "code",
      "execution_count": 19,
      "metadata": {
        "id": "FWyFkQ_tRGfT"
      },
      "outputs": [],
      "source": [
        "from nltk.corpus import wordnet\n",
        "\n",
        "def print_all_senses(word):\n",
        "    synsets = wordnet.synsets(word)\n",
        "    if synsets:\n",
        "        print(f\"All senses of '{word}':\")\n",
        "        for synset in synsets:\n",
        "            print(f\"{synset.name()}:  Sense Key: {synset.lemmas()[-1].key()} {synset.definition()}\" )\n",
        "    else:\n",
        "        print(f\"No senses found for '{word}'.\")\n"
      ]
    },
    {
      "cell_type": "code",
      "execution_count": 20,
      "metadata": {
        "id": "EPWEyepIVZgY"
      },
      "outputs": [],
      "source": [
        "from nltk.corpus import wordnet as wn\n",
        "POS  = {'n':'NOUN', 'a': 'ADJ','s': 'ADJ', 'v': 'VERB', 'r':'ADV'}\n",
        "def add_dataset_from_wordnet(word):\n",
        "    word2 = word.replace('_',' ')\n",
        "    word2 = word2.replace('-',' ')\n",
        "    # print(\"word\", word)\n",
        "    synsets = wn.synsets(word)\n",
        "    if synsets:\n",
        "      for word_synset in synsets:\n",
        "        lemma = word_synset.lemmas()[0].name()\n",
        "        example_sentence = word_synset.examples()[0] if word_synset.examples() else word_synset.definition()\n",
        "\n",
        "        p = word_synset.pos()\n",
        "        pos = POS[p]\n",
        "\n",
        "        word_form = None\n",
        "        if example_sentence is not None:\n",
        "          word_forms = example_sentence.split()\n",
        "          for wf in word_forms:\n",
        "            wf_synsets = wn.synsets(wf)\n",
        "            for wf_synset in wf_synsets:\n",
        "                wf_lemma = wf_synset.lemmas()[0].name()\n",
        "                # print(wf_l)\n",
        "                if lemma == wf_lemma:\n",
        "                  word_form = wf\n",
        "                  break;\n",
        "            if word_form:\n",
        "              break\n",
        "        for sense in word_synset.lemmas():\n",
        "          sense_key = sense.key()\n",
        "          posi = sense_key.index('%')\n",
        "          if sense_key.startswith(word+'%'):\n",
        "            posi = sense_key.index('%')\n",
        "            break\n",
        "\n",
        "        if word_form is None:\n",
        "          word_form = word\n",
        "        bow = \"\"\n",
        "        if (word in example_sentence.split()):\n",
        "          # print(example_sentence)\n",
        "          posit = example_sentence.split().index(word.split()[0])\n",
        "          # doc = nlp(example_sentence)\n",
        "          # sentence_vector = doc.vector\n",
        "          bow = example_sentence.split()[max(posit-3,0):min(posit+3,(len(example_sentence.split())))]\n",
        "        if word not in dataset:\n",
        "          dataset[word] = []\n",
        "        dataset[word].append([None,lemma, example_sentence,pos,pos_sent,bow,word_form, sense_key[posi:]])\n",
        "        example_sentence= \"\"\n",
        "        # dataset[word].append([None, lemma, example_sentence, pos, word_form, sense_key[posi:]])\n",
        "        # print('hi', [lemma, example_sentence, pos, word_form, sense_key])\n",
        "    else:\n",
        "        print('hi',word, [None])\n",
        "\n"
      ]
    },
    {
      "cell_type": "code",
      "execution_count": 21,
      "metadata": {
        "id": "Ww4allnlCXkc"
      },
      "outputs": [],
      "source": [
        "words = list(test_dataset.keys())\n",
        "\n",
        "# for lemma in words:\n",
        "#     add_dataset_from_wordnet(lemma)"
      ]
    },
    {
      "cell_type": "code",
      "execution_count": null,
      "metadata": {
        "id": "popvDOSP1SRp"
      },
      "outputs": [],
      "source": [
        "import json\n",
        "with open('drive/MyDrive/final_datasettf.json', 'w') as file:\n",
        "    json.dump(dataset, file, indent=2)\n"
      ]
    },
    {
      "cell_type": "code",
      "execution_count": 22,
      "metadata": {
        "id": "zz-nfdTE1exQ"
      },
      "outputs": [],
      "source": [
        "with open('drive/MyDrive/final_datasettf.json', 'r') as file:\n",
        "    final_dataset = json.load(file)"
      ]
    },
    {
      "cell_type": "code",
      "execution_count": 23,
      "metadata": {
        "id": "CunEWiKUaCeA"
      },
      "outputs": [],
      "source": [
        "from nltk.corpus import wordnet as wn\n",
        "def most_common(word):\n",
        "  synsets = wn.synsets(word)\n",
        "  word = word.replace('_',' ')\n",
        "  word = word.replace('-',' ')\n",
        "  if synsets:\n",
        "    lemma = synsets[0].lemmas()\n",
        "    return lemma[0].key()\n",
        "  else:\n",
        "    print(word)\n",
        "    return \"iji\"\n"
      ]
    },
    {
      "cell_type": "code",
      "execution_count": 24,
      "metadata": {
        "colab": {
          "base_uri": "https://localhost:8080/"
        },
        "id": "jMbUQSUKLW5V",
        "outputId": "c6461a42-1f49-4be2-ed5d-44814c63c006"
      },
      "outputs": [
        {
          "name": "stdout",
          "output_type": "stream",
          "text": [
            "0.46640495243847196\n"
          ]
        }
      ],
      "source": [
        "words = list(test_dataset.keys())\n",
        "total_correct = 0\n",
        "total_word_count = 0\n",
        "for lemma in words:\n",
        "    if lemma not in final_dataset:\n",
        "      # print(lemma)\n",
        "      # add_dataset_from_wordnet(lemma)\n",
        "      continue\n",
        "\n",
        "    X_test = [row[1] for row in test_dataset[lemma]]\n",
        "    y_test = [row[-1] for row in test_dataset[lemma]]\n",
        "    y_train = [row[-1] for row in final_dataset[lemma]]\n",
        "    predictions = [most_common(word) for word in X_test]\n",
        "\n",
        "    correct = 0\n",
        "    total = 0\n",
        "    for p, g in zip(predictions, y_test):\n",
        "      total += 1\n",
        "      pos = p.index('%')\n",
        "\n",
        "      if p[pos:] in g:\n",
        "        correct += 1\n",
        "      # else:\n",
        "      #   print (p[pos:],\"=\",g)\n",
        "    accuracy = correct/total\n",
        "    total_word_count += len(X_test)\n",
        "    total_correct += correct\n",
        "print(total_correct/total_word_count)"
      ]
    },
    {
      "cell_type": "code",
      "execution_count": 25,
      "metadata": {
        "id": "5pW36JY7eb9U"
      },
      "outputs": [],
      "source": [
        "#Navie Bayes\n",
        "words = list(test_dataset.keys())\n",
        "total_accuracy = 0\n",
        "lc = 0\n",
        "for lemma in words:\n",
        "    if lemma not in dataset:\n",
        "      add_dataset_from_wordnet(lemma)\n",
        "      # print(lemma)\n",
        "      continue\n",
        "\n",
        "    X_train = [row[1:-1] for row in dataset[lemma]]\n",
        "    y_train = [row[-1] for row in dataset[lemma]]\n",
        "\n",
        "\n",
        "    X_test = [row[1:-1] for row in test_dataset[lemma]]\n",
        "    y_test = [row[-1] for row in test_dataset[lemma]]\n",
        "    vectorizer = DictVectorizer(sparse=False)\n",
        "    X_train_vectorized = vectorizer.fit_transform([dict(zip(['lemma', 'sent', 'pos', 'element.text'], x)) for x in X_train])\n",
        "\n",
        "    # X_train_vectorized = vectorizer.fit_transform([dict(zip(['pos', 'element.text'], x)) for x in X_train])\n",
        "    naive_bayes_classifier = MultinomialNB()\n",
        "\n",
        "    naive_bayes_classifier.fit(X_train_vectorized, y_train)\n",
        "\n",
        "    # X_test_vectorized = vectorizer.transform([dict(zip(['pos', 'element.text'], x)) for x in X_test])\n",
        "    X_test_vectorized = vectorizer.transform([dict(zip(['lemma', 'sent', 'pos', 'element.text'], x)) for x in X_test])\n",
        "    predictions = naive_bayes_classifier.predict(X_test_vectorized)\n",
        "    # accuracy = naive_bayes_classifier.score(X_test_vectorized, y_test)\n",
        "\n",
        "    if len(set(y_train)) < 2:\n",
        "        # if list(set(test_y))[0] != list(set(train_y))[0]:\n",
        "        #     print(lemma, test_y, list(set(train_y))[0])\n",
        "\n",
        "        lc += len(y_test)\n",
        "        total_accuracy += 1 * len(y_test)\n",
        "        continue\n",
        "    # print(\"Accuracy:\", accuracy)\n",
        "    correct = 0\n",
        "    total = 0\n",
        "    for p, g in zip(predictions, y_test):\n",
        "      total += 1\n",
        "      if p in g:\n",
        "        correct += 1\n",
        "    accuracy = correct/total\n",
        "    lc+= len(X_test)\n",
        "    total_accuracy += accuracy * len(X_test)\n"
      ]
    },
    {
      "cell_type": "code",
      "execution_count": null,
      "metadata": {
        "id": "MX0oA1EHT4uy"
      },
      "outputs": [],
      "source": [
        "#KNN\n",
        "from sklearn.neighbors import KNeighborsClassifier\n",
        "from sklearn.feature_extraction import DictVectorizer\n",
        "\n",
        "from sklearn.feature_extraction import DictVectorizer\n",
        "from sklearn.linear_model import LogisticRegression\n",
        "\n",
        "words = list(test_dataset.keys())\n",
        "total_accuracy = 0\n",
        "lc = 0\n",
        "\n",
        "for lemma in words:\n",
        "    if lemma not in final_dataset:\n",
        "        # print(lemma)\n",
        "        continue\n",
        "\n",
        "    X_train = [row[1:-1] for row in dataset[lemma]]\n",
        "    y_train = [row[-1] for row in dataset[lemma]]\n",
        "\n",
        "    X_test = [row[1:-1] for row in test_dataset[lemma]]\n",
        "    y_test = [row[-1] for row in test_dataset[lemma]]\n",
        "\n",
        "    if len(set(y_train)) < 2:\n",
        "        lc += len(y_test)\n",
        "        total_accuracy += 1 * len(X_test)\n",
        "        continue\n",
        "\n",
        "    vectorizer = DictVectorizer(sparse=False)\n",
        "    X_train_vectorized = vectorizer.fit_transform([dict(zip(['lemma', 'sent', 'pos', 'element.text'], x)) for x in X_train])\n",
        "\n",
        "    knn_classifier = KNeighborsClassifier(n_neighbors=(max(2,len(y_train)//3)))  # You can adjust n_neighbors as needed\n",
        "\n",
        "    knn_classifier.fit(X_train_vectorized, y_train)\n",
        "\n",
        "    X_test_vectorized = vectorizer.transform([dict(zip(['lemma', 'sent', 'pos', 'element.text'], x)) for x in X_test])\n",
        "\n",
        "    predictions = knn_classifier.predict(X_test_vectorized)\n",
        "    correct = 0\n",
        "    total = 0\n",
        "    for p, g in zip(predictions, y_test):\n",
        "      total += 1\n",
        "      if p in g:\n",
        "        correct += 1\n",
        "    accuracy = correct/total\n",
        "\n",
        "\n",
        "\n",
        "    lc += len(X_test)\n",
        "    total_accuracy += accuracy * len(X_test)\n",
        "\n"
      ]
    },
    {
      "cell_type": "code",
      "execution_count": null,
      "metadata": {
        "id": "VyVceT2CIIW6"
      },
      "outputs": [],
      "source": [
        "\n",
        "from sklearn.feature_extraction import DictVectorizer\n",
        "from sklearn.linear_model import LogisticRegression\n",
        "\n",
        "\n",
        "words = list(test_dataset.keys())\n",
        "total_accuracy = 0\n",
        "lc = 0\n",
        "\n",
        "for lemma in words:\n",
        "    if lemma not in final_dataset:\n",
        "        add_dataset_from_wordnet(lemma)\n",
        "        print(lemma)\n",
        "        continue\n",
        "\n",
        "    X_train = [row[3:-1] for row in final_dataset[lemma]]\n",
        "    y_train = [row[-1] for row in final_dataset[lemma]]\n",
        "\n",
        "\n",
        "    X_test = [row[3:-1] for row in test_dataset[lemma]]\n",
        "    y_test = [row[-1] for row in test_dataset[lemma]]\n",
        "    vectorizer = DictVectorizer(sparse=False)\n",
        "    X_train_vectorized = vectorizer.fit_transform([dict(zip(['pos', 'pos_sent', 'bow','element.text'], x)) for x in X_train])\n",
        "    X_test_vectorized = vectorizer.transform([dict(zip([ 'pos', 'pos_sent', 'bow','element.text'], x)) for x in X_test])\n",
        "\n",
        "\n",
        "    if len(set(y_train)) < 2:\n",
        "        lc += len(y_test)\n",
        "        total_accuracy += 1 * len(y_test)\n",
        "        continue\n",
        "\n",
        "    # vectorizer = DictVectorizer(sparse=False)\n",
        "    # X_train_vectorized = vectorizer.fit_transform(\n",
        "    #     [dict(zip(['lemma', 'sent', 'pos', 'element.text'], x)) for x in X_train]\n",
        "    # )\n",
        "\n",
        "    # Initialize Logistic Regression (MaxEnt) classifier\n",
        "    maxent_classifier = LogisticRegression(max_iter=1000)\n",
        "\n",
        "    maxent_classifier.fit(X_train_vectorized, y_train)\n",
        "\n",
        "    # X_test_vectorized = vectorizer.transform(\n",
        "    #     [dict(zip(['lemma', 'sent', 'pos', 'element.text'], x)) for x in X_test]\n",
        "    # )\n",
        "\n",
        "    predictions = maxent_classifier.predict(X_test_vectorized)\n",
        "\n",
        "\n",
        "    correct = 0\n",
        "    total = 0\n",
        "\n",
        "    for p, g in zip(predictions, y_test):\n",
        "        total += 1\n",
        "        if p in g:\n",
        "            correct += 1\n",
        "\n",
        "    accuracy = correct / total\n",
        "    lc += len(X_test)\n",
        "    total_accuracy += accuracy * len(X_test)\n",
        "\n"
      ]
    },
    {
      "cell_type": "code",
      "execution_count": 29,
      "metadata": {
        "id": "BkOdX1I_hMOj"
      },
      "outputs": [],
      "source": [
        "#Navie Bayes\n",
        "def NaiveBayes(config):\n",
        "    tcorrect = 0\n",
        "    for lemma in words:\n",
        "        if lemma not in final_dataset:\n",
        "          add_dataset_from_wordnet(lemma)\n",
        "          continue\n",
        "            # test_dataset[word].append([None,lemma, example_sentence,pos,pos_sent,bow,word_form, sense_key[posi:]])\n",
        "\n",
        "        X_train = [[row[i] for i in config] for row in final_dataset[lemma]]\n",
        "        y_train = [row[-1] for row in final_dataset[lemma]]\n",
        "\n",
        "\n",
        "        X_test = [[row[i] for i in config] for row in test_dataset[lemma]]\n",
        "        y_test = [row[-1] for row in test_dataset[lemma]]\n",
        "\n",
        "        if len(set(y_train)) == 1:\n",
        "            tcorrect += len(y_test)\n",
        "            continue\n",
        "        vectorizer = DictVectorizer(sparse=False)\n",
        "        features = [f'feature{i}' for i in config]\n",
        "        # print(features)\n",
        "        X_train_vectorized = vectorizer.fit_transform([dict(zip(features, x)) for x in X_train])\n",
        "\n",
        "        naive_bayes_classifier = MultinomialNB()\n",
        "        naive_bayes_classifier.fit(X_train_vectorized, y_train)\n",
        "\n",
        "        X_test_vectorized = vectorizer.transform([dict(zip(features, x)) for x in X_test])\n",
        "        predictions = naive_bayes_classifier.predict(X_test_vectorized)\n",
        "\n",
        "        correct = 0\n",
        "        total = 0\n",
        "        for p, g in zip(predictions, y_test):\n",
        "          total += 1\n",
        "          if p in g:\n",
        "            correct += 1\n",
        "          # else:\n",
        "          #   print (p,\"=\",g)\n",
        "        accuracy = correct/total\n",
        "        tcorrect += correct\n",
        "    return tcorrect\n"
      ]
    },
    {
      "cell_type": "code",
      "execution_count": 30,
      "metadata": {
        "id": "eIQ2IcWglEnd"
      },
      "outputs": [],
      "source": [
        "#KNN\n",
        "def KNN(config):\n",
        "    tcorrect = 0\n",
        "    for lemma in words:\n",
        "        if lemma not in final_dataset:\n",
        "          add_dataset_from_wordnet(lemma)\n",
        "          continue\n",
        "            # test_dataset[word].append([None,lemma, example_sentence,pos,pos_sent,bow,word_form, sense_key[posi:]])\n",
        "\n",
        "        X_train = [[row[i] for i in config] for row in final_dataset[lemma]]\n",
        "        y_train = [row[-1] for row in final_dataset[lemma]]\n",
        "\n",
        "\n",
        "        X_test = [[row[i] for i in config] for row in test_dataset[lemma]]\n",
        "        y_test = [row[-1] for row in test_dataset[lemma]]\n",
        "\n",
        "        if len(set(y_train)) == 1:\n",
        "            tcorrect += len(y_test)\n",
        "            continue\n",
        "        vectorizer = DictVectorizer(sparse=False)\n",
        "        features = [f'feature{i}' for i in config]\n",
        "\n",
        "        X_train_vectorized = vectorizer.fit_transform([dict(zip(features, x)) for x in X_train])\n",
        "\n",
        "        X_test_vectorized = vectorizer.transform([dict(zip(features, x)) for x in X_test])\n",
        "\n",
        "        knn_classifier = KNeighborsClassifier(n_neighbors=(max(2,len(y_train)//3)))  # You can adjust n_neighbors as needed\n",
        "\n",
        "        knn_classifier.fit(X_train_vectorized, y_train)\n",
        "\n",
        "\n",
        "        predictions = knn_classifier.predict(X_test_vectorized)\n",
        "        correct = 0\n",
        "        total = 0\n",
        "        for p, g in zip(predictions, y_test):\n",
        "          total += 1\n",
        "          if p in g:\n",
        "            correct += 1\n",
        "          # else:\n",
        "          #   print (p,\"=\",g)\n",
        "        accuracy = correct/total\n",
        "        tcorrect += correct\n",
        "    return tcorrect\n"
      ]
    },
    {
      "cell_type": "code",
      "execution_count": 31,
      "metadata": {
        "id": "-a45WJtklKZR"
      },
      "outputs": [],
      "source": [
        "#MaxEnt\n",
        "def MaxEnt(config):\n",
        "    tcorrect = 0\n",
        "    for lemma in words:\n",
        "        if lemma not in final_dataset:\n",
        "          add_dataset_from_wordnet(lemma)\n",
        "          continue\n",
        "            # test_dataset[word].append([None,lemma, example_sentence,pos,pos_sent,bow,word_form, sense_key[posi:]])\n",
        "\n",
        "        X_train = [[row[i] for i in config] for row in final_dataset[lemma]]\n",
        "        y_train = [row[-1] for row in final_dataset[lemma]]\n",
        "\n",
        "\n",
        "        X_test = [[row[i] for i in config] for row in test_dataset[lemma]]\n",
        "        y_test = [row[-1] for row in test_dataset[lemma]]\n",
        "\n",
        "        if len(set(y_train)) == 1:\n",
        "            tcorrect += len(y_test)\n",
        "            continue\n",
        "        vectorizer = DictVectorizer(sparse=False)\n",
        "        features = [f'feature{i}' for i in config]\n",
        "\n",
        "        X_train_vectorized = vectorizer.fit_transform([dict(zip(features, x)) for x in X_train])\n",
        "\n",
        "        X_test_vectorized = vectorizer.transform([dict(zip(features, x)) for x in X_test])\n",
        "        maxent_classifier = LogisticRegression(max_iter=1000)\n",
        "\n",
        "        maxent_classifier.fit(X_train_vectorized, y_train)\n",
        "\n",
        "\n",
        "        predictions = maxent_classifier.predict(X_test_vectorized)\n",
        "\n",
        "        correct = 0\n",
        "        total = 0\n",
        "        for p, g in zip(predictions, y_test):\n",
        "          total += 1\n",
        "          if p in g:\n",
        "            correct += 1\n",
        "          # else:\n",
        "          #   print (p,\"=\",g)\n",
        "        accuracy = correct/total\n",
        "        tcorrect += correct\n",
        "    return tcorrect\n"
      ]
    },
    {
      "cell_type": "code",
      "execution_count": 50,
      "metadata": {
        "colab": {
          "base_uri": "https://localhost:8080/"
        },
        "id": "-N35PkREcRVf",
        "outputId": "831c644e-25aa-4617-9245-8ead25c0e10c"
      },
      "outputs": [
        {
          "name": "stdout",
          "output_type": "stream",
          "text": [
            "(' pos', ' word_form', 'pos_before', 'pos_after')\n",
            "NB 0.6829231466102974\n",
            "KNN 0.6610297448286275\n",
            "ME 0.6797523780764004\n",
            "('lemma', ' pos', ' pos_sent', ' bow')\n",
            "NB 0.6696361165634909\n",
            "KNN 0.6583119432281443\n",
            "ME 0.6759776536312849\n",
            "(' sentence',)\n",
            "NB 0.6151290955760229\n",
            "KNN 0.6140721727313906\n",
            "ME 0.6131662388645629\n",
            "(' bow',)\n",
            "NB 0.6500075494488903\n",
            "KNN 0.6370224973576929\n",
            "ME 0.650913483315718\n",
            "('lemma', ' sentence', ' pos', ' pos_sent')\n",
            "NB 0.6566510644722935\n",
            "KNN 0.6471387588706025\n",
            "ME 0.6595198550505813\n",
            "(' sentence', ' pos', ' pos_sent', ' bow', ' word_form')\n",
            "NB 0.6714479842971464\n",
            "KNN 0.6580099652725351\n",
            "ME 0.675524686697871\n",
            "('lemma', ' pos', ' pos_sent', ' bow')\n",
            "NB 0.6696361165634909\n",
            "KNN 0.6583119432281443\n",
            "ME 0.6759776536312849\n",
            "(' pos', ' bow', ' word_form')\n",
            "NB 0.6738638079420203\n",
            "KNN 0.6580099652725351\n",
            "ME 0.675524686697871\n",
            "(' pos', ' bow', ' word_form', 'pos_before', 'pos_after')\n",
            "NB 0.6839800694549298\n",
            "KNN 0.6590668881171674\n",
            "ME 0.681111278876642\n"
          ]
        }
      ],
      "source": [
        "#Configurations\n",
        "feature = (['id','lemma',' sentence',' pos',' pos_sent',' bow',' word_form','pos_before','pos_after','y'])\n",
        "\n",
        "config = [\n",
        "    [3,6,7,8],\n",
        "    [1,3,4,5],\n",
        "    [2],\n",
        "    [5],\n",
        "    [1,2,3,4],\n",
        "    [2,3,4,5,6],\n",
        "    [1,3,4,5],\n",
        "    [3,5,6],\n",
        "    [3,5,6,7,8],\n",
        "    ]\n",
        "data = {}\n",
        "for i in config:\n",
        "    f = tuple([feature[j] for j in i])\n",
        "    data[f] = {}\n",
        "    print(f)\n",
        "    NB = NaiveBayes(i)\n",
        "    # i = tuple(i)\n",
        "    print(\"NB\",NB/total_word_count)\n",
        "\n",
        "    data[f][\"NB\"] = NB/total_word_count\n",
        "    knn = KNN(i)\n",
        "    print(\"KNN\", knn/total_word_count)\n",
        "    data[f][\"KNN\"] = knn/total_word_count\n",
        "\n",
        "    ME = MaxEnt(i)\n",
        "    print(\"ME\",ME/total_word_count)\n",
        "    data[f][\"ME\"] = ME/total_word_count\n",
        "\n",
        "    # AB = AdaBoost(i)\n",
        "    # print(\"AB\",AB/total_word_count)\n",
        "\n"
      ]
    },
    {
      "cell_type": "code",
      "execution_count": 51,
      "metadata": {
        "colab": {
          "base_uri": "https://localhost:8080/"
        },
        "id": "IQoVe98jiJbd",
        "outputId": "4218c324-0481-4a81-c6e6-307e07d79c9a"
      },
      "outputs": [
        {
          "name": "stdout",
          "output_type": "stream",
          "text": [
            "{(' pos', ' word_form', 'pos_before', 'pos_after'): {'NB': 0.6829231466102974, 'KNN': 0.6610297448286275, 'ME': 0.6797523780764004}, ('lemma', ' pos', ' pos_sent', ' bow'): {'NB': 0.6696361165634909, 'KNN': 0.6583119432281443, 'ME': 0.6759776536312849}, (' sentence',): {'NB': 0.6151290955760229, 'KNN': 0.6140721727313906, 'ME': 0.6131662388645629}, (' bow',): {'NB': 0.6500075494488903, 'KNN': 0.6370224973576929, 'ME': 0.650913483315718}, ('lemma', ' sentence', ' pos', ' pos_sent'): {'NB': 0.6566510644722935, 'KNN': 0.6471387588706025, 'ME': 0.6595198550505813}, (' sentence', ' pos', ' pos_sent', ' bow', ' word_form'): {'NB': 0.6714479842971464, 'KNN': 0.6580099652725351, 'ME': 0.675524686697871}, (' pos', ' bow', ' word_form'): {'NB': 0.6738638079420203, 'KNN': 0.6580099652725351, 'ME': 0.675524686697871}, (' pos', ' bow', ' word_form', 'pos_before', 'pos_after'): {'NB': 0.6839800694549298, 'KNN': 0.6590668881171674, 'ME': 0.681111278876642}}\n"
          ]
        }
      ],
      "source": [
        "print(data)"
      ]
    },
    {
      "cell_type": "code",
      "execution_count": 46,
      "metadata": {
        "colab": {
          "base_uri": "https://localhost:8080/",
          "height": 718
        },
        "id": "2KmsDiTbb_CD",
        "outputId": "a13b9487-0759-4716-deb9-d692f430f49f"
      },
      "outputs": [
        {
          "data": {
            "image/png": "[encoded data removed]",
            "text/plain": [
              "<Figure size 1200x800 with 1 Axes>"
            ]
          },
          "metadata": {},
          "output_type": "display_data"
        }
      ],
      "source": [
        "import matplotlib.pyplot as plt\n",
        "\n",
        "\n",
        "\n",
        "\n",
        "\n",
        "x_values = ['NB', 'KNN', 'ME']\n",
        "lines = list(data.keys())\n",
        "y_values = {line: [data[line][x] for x in x_values] for line in lines}\n",
        "\n",
        "plt.figure(figsize=(12, 8))\n",
        "\n",
        "for line in lines:\n",
        "    plt.plot(x_values, y_values[line], marker='o', label=str(line))\n",
        "\n",
        "plt.xlabel('Algorithms (NB, KNN, ME)')\n",
        "plt.ylabel('Accuracy')\n",
        "plt.title('Algorithm Comparison')\n",
        "plt.legend()\n",
        "plt.xticks(x_values)\n",
        "plt.grid(True)\n",
        "plt.show()\n"
      ]
    },
    {
      "cell_type": "code",
      "execution_count": null,
      "metadata": {
        "id": "EQls-BAxurtA"
      },
      "outputs": [],
      "source": []
    }
  ],
  "metadata": {
    "colab": {
      "provenance": []
    },
    "kernelspec": {
      "display_name": "Python 3",
      "name": "python3"
    },
    "language_info": {
      "name": "python"
    }
  },
  "nbformat": 4,
  "nbformat_minor": 0
}
